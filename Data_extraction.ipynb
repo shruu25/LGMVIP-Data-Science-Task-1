{
 "cells": [
  {
   "cell_type": "code",
   "execution_count": 5,
   "source": [
    "import numpy as np\r\n",
    "import cv2\r\n",
    "from PIL import Image\r\n",
    "from matplotlib import pyplot as plt\r\n",
    "%matplotlib inline\r\n",
    "import os\r\n",
    "from os import listdir\r\n",
    "from os.path import isfile, join\r\n",
    "import pandas as pd"
   ],
   "outputs": [],
   "metadata": {}
  },
  {
   "cell_type": "code",
   "execution_count": 6,
   "source": [
    "def load_images_from_folder(folder):\r\n",
    "    train_data=[]\r\n",
    "    for filename in os.listdir(folder):\r\n",
    "        img = cv2.imread(os.path.join(folder,filename),cv2.IMREAD_GRAYSCALE)\r\n",
    "        img=~img\r\n",
    "        if img is not None:\r\n",
    "            ret,thresh=cv2.threshold(img,127,255,cv2.THRESH_BINARY)\r\n",
    "\r\n",
    "            ctrs,ret=cv2.findContours(thresh,cv2.RETR_EXTERNAL,cv2.CHAIN_APPROX_NONE)\r\n",
    "            cnt=sorted(ctrs, key=lambda ctr: cv2.boundingRect(ctr)[0])\r\n",
    "            w=int(28)\r\n",
    "            h=int(28)\r\n",
    "            maxi=0\r\n",
    "            for c in cnt:\r\n",
    "                x,y,w,h=cv2.boundingRect(c)\r\n",
    "                maxi=max(w*h,maxi)\r\n",
    "                if maxi==w*h:\r\n",
    "                    x_max=x\r\n",
    "                    y_max=y\r\n",
    "                    w_max=w\r\n",
    "                    h_max=h\r\n",
    "            im_crop= thresh[y_max:y_max+h_max+10, x_max:x_max+w_max+10]\r\n",
    "            im_resize = cv2.resize(im_crop,(28,28))\r\n",
    "            im_resize=np.reshape(im_resize,(784,1))\r\n",
    "            train_data.append(im_resize)\r\n",
    "    return train_data\r\n",
    "                \r\n",
    "                "
   ],
   "outputs": [],
   "metadata": {}
  },
  {
   "cell_type": "code",
   "execution_count": 7,
   "source": [
    "data=[]"
   ],
   "outputs": [],
   "metadata": {}
  },
  {
   "cell_type": "code",
   "execution_count": 8,
   "source": [
    "#assign '-'=10\r\n",
    "data=load_images_from_folder('-')\r\n",
    "len(data)\r\n",
    "for i in range(0,len(data)):\r\n",
    "    data[i]=np.append(data[i],['10'])\r\n",
    "    \r\n",
    "print(len(data))\r\n"
   ],
   "outputs": [
    {
     "output_type": "stream",
     "name": "stdout",
     "text": [
      "4152\n"
     ]
    }
   ],
   "metadata": {
    "scrolled": true
   }
  },
  {
   "cell_type": "code",
   "execution_count": 9,
   "source": [
    "#assign + = 11\r\n",
    "data11=load_images_from_folder('+')\r\n",
    "\r\n",
    "for i in range(0,len(data11)):\r\n",
    "    data11[i]=np.append(data11[i],['11'])\r\n",
    "data=np.concatenate((data,data11))\r\n",
    "print(len(data))"
   ],
   "outputs": [
    {
     "output_type": "stream",
     "name": "stdout",
     "text": [
      "8184\n"
     ]
    }
   ],
   "metadata": {}
  },
  {
   "cell_type": "code",
   "execution_count": 10,
   "source": [
    "data0=load_images_from_folder('0')\r\n",
    "for i in range(0,len(data0)):\r\n",
    "    data0[i]=np.append(data0[i],['0'])\r\n",
    "data=np.concatenate((data,data0))\r\n",
    "print(len(data))"
   ],
   "outputs": [
    {
     "output_type": "stream",
     "name": "stdout",
     "text": [
      "12018\n"
     ]
    }
   ],
   "metadata": {}
  },
  {
   "cell_type": "code",
   "execution_count": 11,
   "source": [
    "data1=load_images_from_folder('1')\r\n",
    "\r\n",
    "for i in range(0,len(data1)):\r\n",
    "    data1[i]=np.append(data1[i],['1'])\r\n",
    "data=np.concatenate((data,data1))\r\n",
    "print(len(data))"
   ],
   "outputs": [
    {
     "output_type": "stream",
     "name": "stdout",
     "text": [
      "16074\n"
     ]
    }
   ],
   "metadata": {}
  },
  {
   "cell_type": "code",
   "execution_count": 12,
   "source": [
    "data2=load_images_from_folder('2')\r\n",
    "\r\n",
    "for i in range(0,len(data2)):\r\n",
    "    data2[i]=np.append(data2[i],['2'])\r\n",
    "data=np.concatenate((data,data2))\r\n",
    "print(len(data))"
   ],
   "outputs": [
    {
     "output_type": "stream",
     "name": "stdout",
     "text": [
      "20334\n"
     ]
    }
   ],
   "metadata": {}
  },
  {
   "cell_type": "code",
   "execution_count": 13,
   "source": [
    "data3=load_images_from_folder('3')\r\n",
    "\r\n",
    "for i in range(0,len(data3)):\r\n",
    "    data3[i]=np.append(data3[i],['3'])\r\n",
    "data=np.concatenate((data,data3))\r\n",
    "print(len(data))"
   ],
   "outputs": [
    {
     "output_type": "stream",
     "name": "stdout",
     "text": [
      "23850\n"
     ]
    }
   ],
   "metadata": {}
  },
  {
   "cell_type": "code",
   "execution_count": 14,
   "source": [
    "data4=load_images_from_folder('4')\r\n",
    "\r\n",
    "for i in range(0,len(data4)):\r\n",
    "    data4[i]=np.append(data4[i],['4'])\r\n",
    "data=np.concatenate((data,data4))\r\n",
    "print(len(data))"
   ],
   "outputs": [
    {
     "output_type": "stream",
     "name": "stdout",
     "text": [
      "27882\n"
     ]
    }
   ],
   "metadata": {}
  },
  {
   "cell_type": "code",
   "execution_count": 15,
   "source": [
    "data5=load_images_from_folder('5')\r\n",
    "\r\n",
    "for i in range(0,len(data5)):\r\n",
    "    data5[i]=np.append(data5[i],['5'])\r\n",
    "data=np.concatenate((data,data5))\r\n",
    "print(len(data))"
   ],
   "outputs": [
    {
     "output_type": "stream",
     "name": "stdout",
     "text": [
      "31426\n"
     ]
    }
   ],
   "metadata": {}
  },
  {
   "cell_type": "code",
   "execution_count": 16,
   "source": [
    "data6=load_images_from_folder('6')\r\n",
    "\r\n",
    "for i in range(0,len(data6)):\r\n",
    "    data6[i]=np.append(data6[i],['6'])\r\n",
    "data=np.concatenate((data,data6))\r\n",
    "print(len(data))"
   ],
   "outputs": [
    {
     "output_type": "stream",
     "name": "stdout",
     "text": [
      "34543\n"
     ]
    }
   ],
   "metadata": {}
  },
  {
   "cell_type": "code",
   "execution_count": 17,
   "source": [
    "data7=load_images_from_folder('7')\r\n",
    "\r\n",
    "for i in range(0,len(data7)):\r\n",
    "    data7[i]=np.append(data7[i],['7'])\r\n",
    "data=np.concatenate((data,data7))\r\n",
    "print(len(data))"
   ],
   "outputs": [
    {
     "output_type": "stream",
     "name": "stdout",
     "text": [
      "37451\n"
     ]
    }
   ],
   "metadata": {}
  },
  {
   "cell_type": "code",
   "execution_count": 18,
   "source": [
    "data8=load_images_from_folder('8')\r\n",
    "\r\n",
    "for i in range(0,len(data8)):\r\n",
    "    data8[i]=np.append(data8[i],['8'])\r\n",
    "data=np.concatenate((data,data8))\r\n",
    "print(len(data))"
   ],
   "outputs": [
    {
     "output_type": "stream",
     "name": "stdout",
     "text": [
      "40518\n"
     ]
    }
   ],
   "metadata": {}
  },
  {
   "cell_type": "code",
   "execution_count": 19,
   "source": [
    "data9=load_images_from_folder('9')\r\n",
    "\r\n",
    "for i in range(0,len(data9)):\r\n",
    "    data9[i]=np.append(data9[i],['9'])\r\n",
    "data=np.concatenate((data,data9))\r\n",
    "print(len(data))"
   ],
   "outputs": [
    {
     "output_type": "stream",
     "name": "stdout",
     "text": [
      "44254\n"
     ]
    }
   ],
   "metadata": {}
  },
  {
   "cell_type": "code",
   "execution_count": 20,
   "source": [
    "#assign * = 12\r\n",
    "data12=load_images_from_folder('times')\r\n",
    "\r\n",
    "for i in range(0,len(data12)):\r\n",
    "    data12[i]=np.append(data12[i],['12'])\r\n",
    "data=np.concatenate((data,data12))\r\n",
    "print(len(data))"
   ],
   "outputs": [
    {
     "output_type": "stream",
     "name": "stdout",
     "text": [
      "47504\n"
     ]
    }
   ],
   "metadata": {}
  },
  {
   "cell_type": "code",
   "execution_count": 21,
   "source": [
    "df=pd.DataFrame(data,index=None)\r\n",
    "df.to_csv('train_final.csv',index=False)"
   ],
   "outputs": [],
   "metadata": {}
  },
  {
   "cell_type": "code",
   "execution_count": null,
   "source": [],
   "outputs": [],
   "metadata": {}
  }
 ],
 "metadata": {
  "kernelspec": {
   "name": "python3",
   "display_name": "Python 3.9.2 64-bit"
  },
  "language_info": {
   "codemirror_mode": {
    "name": "ipython",
    "version": 3
   },
   "file_extension": ".py",
   "mimetype": "text/x-python",
   "name": "python",
   "nbconvert_exporter": "python",
   "pygments_lexer": "ipython3",
   "version": "3.9.2"
  },
  "interpreter": {
   "hash": "927377c950c03681027084b239140402d95e9f82e1744db40bf3ea7343eafc1a"
  }
 },
 "nbformat": 4,
 "nbformat_minor": 2
}