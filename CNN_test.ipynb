{
 "cells": [
  {
   "cell_type": "code",
   "execution_count": 60,
   "source": [
    "import cv2\r\n",
    "import numpy\r\n",
    "from keras.datasets import mnist\r\n",
    "from keras.models import Sequential\r\n",
    "from keras.layers import Dense\r\n",
    "from keras.layers import Dropout\r\n",
    "from keras.layers import Flatten\r\n",
    "from keras.layers.convolutional import Conv2D\r\n",
    "from keras.layers.convolutional import MaxPooling2D\r\n",
    "from keras.utils import np_utils\r\n",
    "from keras import backend as K\r\n",
    "# K.set_image_dim_ordering('th')\r\n",
    "from keras.models import model_from_json\r\n"
   ],
   "outputs": [],
   "metadata": {}
  },
  {
   "cell_type": "code",
   "execution_count": 61,
   "source": [
    "json_file = open('model_final.json', 'r')\r\n",
    "loaded_model_json = json_file.read()\r\n",
    "json_file.close()\r\n",
    "loaded_model = model_from_json(loaded_model_json)\r\n",
    "# load weights into new model\r\n",
    "loaded_model.load_weights(\"model_final.h5\")"
   ],
   "outputs": [],
   "metadata": {}
  },
  {
   "cell_type": "code",
   "execution_count": 62,
   "source": [
    "print(5)"
   ],
   "outputs": [
    {
     "output_type": "stream",
     "name": "stdout",
     "text": [
      "5\n"
     ]
    }
   ],
   "metadata": {}
  },
  {
   "cell_type": "code",
   "execution_count": 63,
   "source": [
    "import cv2\r\n",
    "import numpy as np\r\n",
    "img = cv2.imread('s.jpg',cv2.IMREAD_GRAYSCALE)#kernel = np.ones((3,3),np.uint8)"
   ],
   "outputs": [],
   "metadata": {}
  },
  {
   "cell_type": "code",
   "execution_count": 64,
   "source": [
    "img"
   ],
   "outputs": [
    {
     "output_type": "execute_result",
     "data": {
      "text/plain": [
       "array([[255, 255, 255, ..., 255, 255, 255],\n",
       "       [255, 255, 255, ..., 255, 255, 255],\n",
       "       [255, 255, 255, ..., 255, 255, 255],\n",
       "       ...,\n",
       "       [255, 255, 255, ..., 255, 255, 255],\n",
       "       [255, 255, 255, ..., 255, 255, 255],\n",
       "       [255, 255, 255, ..., 255, 255, 255]], dtype=uint8)"
      ]
     },
     "metadata": {},
     "execution_count": 64
    }
   ],
   "metadata": {}
  },
  {
   "cell_type": "code",
   "execution_count": 65,
   "source": [
    "if img is not None:\r\n",
    "    #images.append(img)\r\n",
    "    img=~img\r\n",
    "    ret,thresh=cv2.threshold(img,127,255,cv2.THRESH_BINARY)\r\n",
    "    ctrs,ret=cv2.findContours(thresh,cv2.RETR_TREE,cv2.CHAIN_APPROX_SIMPLE)\r\n",
    "    cnt=sorted(ctrs, key=lambda ctr: cv2.boundingRect(ctr)[0])\r\n",
    "    w=int(28)\r\n",
    "    h=int(28)\r\n",
    "    train_data=[]\r\n",
    "    print(len(cnt))\r\n",
    "    rects=[]\r\n",
    "    for c in cnt :\r\n",
    "        x,y,w,h= cv2.boundingRect(c)\r\n",
    "        rect=[x,y,w,h]\r\n",
    "        rects.append(rect)\r\n",
    "    print(rects)\r\n",
    "    bool_rect=[]\r\n",
    "    for r in rects:\r\n",
    "        l=[]\r\n",
    "        for rec in rects:\r\n",
    "            flag=0\r\n",
    "            if rec!=r:\r\n",
    "                if r[0]<(rec[0]+rec[2]+10) and rec[0]<(r[0]+r[2]+10) and r[1]<(rec[1]+rec[3]+10) and rec[1]<(r[1]+r[3]+10):\r\n",
    "                    flag=1\r\n",
    "                l.append(flag)\r\n",
    "            if rec==r:\r\n",
    "                l.append(0)\r\n",
    "        bool_rect.append(l)\r\n",
    "    print(bool_rect)\r\n",
    "    dump_rect=[]\r\n",
    "    for i in range(0,len(cnt)):\r\n",
    "        for j in range(0,len(cnt)):\r\n",
    "            if bool_rect[i][j]==1:\r\n",
    "                area1=rects[i][2]*rects[i][3]\r\n",
    "                area2=rects[j][2]*rects[j][3]\r\n",
    "                if(area1==min(area1,area2)):\r\n",
    "                    dump_rect.append(rects[i])\r\n",
    "    print(len(dump_rect)) \r\n",
    "    final_rect=[i for i in rects if i not in dump_rect]\r\n",
    "    print(final_rect)\r\n",
    "    for r in final_rect:\r\n",
    "        x=r[0]\r\n",
    "        y=r[1]\r\n",
    "        w=r[2]\r\n",
    "        h=r[3]\r\n",
    "        im_crop =thresh[y:y+h+10,x:x+w+10]\r\n",
    "        \r\n",
    "\r\n",
    "        im_resize = cv2.resize(im_crop,(28,28))\r\n",
    "\r\n",
    "\r\n",
    "        im_resize=np.reshape(im_resize,(28,28,1))\r\n",
    "        train_data.append(im_resize)"
   ],
   "outputs": [
    {
     "output_type": "stream",
     "name": "stdout",
     "text": [
      "4\n",
      "[[155, 143, 6, 118], [197, 134, 83, 112], [310, 187, 74, 9], [418, 126, 4, 105]]\n",
      "[[0, 0, 0, 0], [0, 0, 0, 0], [0, 0, 0, 0], [0, 0, 0, 0]]\n",
      "0\n",
      "[[155, 143, 6, 118], [197, 134, 83, 112], [310, 187, 74, 9], [418, 126, 4, 105]]\n"
     ]
    }
   ],
   "metadata": {}
  },
  {
   "cell_type": "code",
   "execution_count": 66,
   "source": [
    "s=''\r\n",
    "for i in range(len(train_data)):\r\n",
    "    train_data[i]=np.array(train_data[i])\r\n",
    "    train_data[i]=train_data[i].reshape(1,28,28,1)\r\n",
    "    #result=loaded_model.predict_classes(train_data[i])\r\n",
    "    result=np.argmax(loaded_model.predict(train_data[i]), axis=-1)\r\n",
    "    if(result[0]==10):\r\n",
    "        s=s+'-'\r\n",
    "    if(result[0]==11):\r\n",
    "        s=s+'+'\r\n",
    "    if(result[0]==12):\r\n",
    "        s=s+'*'\r\n",
    "    if(result[0]==0):\r\n",
    "        s=s+'0'\r\n",
    "    if(result[0]==1):\r\n",
    "        s=s+'1'\r\n",
    "    if(result[0]==2):\r\n",
    "        s=s+'2'\r\n",
    "    if(result[0]==3):\r\n",
    "        s=s+'3'\r\n",
    "    if(result[0]==4):\r\n",
    "        s=s+'4'\r\n",
    "    if(result[0]==5):\r\n",
    "        s=s+'5'\r\n",
    "    if(result[0]==6):\r\n",
    "        s=s+'6'\r\n",
    "    if(result[0]==7):\r\n",
    "        s=s+'7'\r\n",
    "    if(result[0]==8):\r\n",
    "        s=s+'8'\r\n",
    "    if(result[0]==9):\r\n",
    "        s=s+'9'\r\n",
    "    \r\n",
    "print(s)    "
   ],
   "outputs": [
    {
     "output_type": "stream",
     "name": "stdout",
     "text": [
      "13-1\n"
     ]
    }
   ],
   "metadata": {}
  },
  {
   "cell_type": "code",
   "execution_count": 67,
   "source": [
    "eval(s)"
   ],
   "outputs": [
    {
     "output_type": "execute_result",
     "data": {
      "text/plain": [
       "12"
      ]
     },
     "metadata": {},
     "execution_count": 67
    }
   ],
   "metadata": {}
  },
  {
   "cell_type": "code",
   "execution_count": null,
   "source": [],
   "outputs": [],
   "metadata": {}
  }
 ],
 "metadata": {
  "kernelspec": {
   "name": "python3",
   "display_name": "Python 3.9.2 64-bit"
  },
  "language_info": {
   "codemirror_mode": {
    "name": "ipython",
    "version": 3
   },
   "file_extension": ".py",
   "mimetype": "text/x-python",
   "name": "python",
   "nbconvert_exporter": "python",
   "pygments_lexer": "ipython3",
   "version": "3.9.2"
  },
  "interpreter": {
   "hash": "927377c950c03681027084b239140402d95e9f82e1744db40bf3ea7343eafc1a"
  }
 },
 "nbformat": 4,
 "nbformat_minor": 2
}